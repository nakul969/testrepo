{
 "cells": [
  {
   "cell_type": "markdown",
   "id": "3b002173-7508-4ea2-8b08-c6a8e6276cb3",
   "metadata": {},
   "source": [
    "# Data Science Tools and Ecosystem"
   ]
  },
  {
   "cell_type": "markdown",
   "id": "e0bfd45d-6e3b-4bd5-9778-2327eb9b096f",
   "metadata": {
    "tags": []
   },
   "source": [
    "In this notebook, Data Science Tools and Ecosystem are summarized."
   ]
  },
  {
   "cell_type": "markdown",
   "id": "9b3c4b27-9ec7-484a-bf9d-202692a1647e",
   "metadata": {},
   "source": [
    "**Objectives:**\n",
    "- Java\n",
    "- Scala\n",
    "- R\n",
    "- SQL"
   ]
  },
  {
   "cell_type": "markdown",
   "id": "47ad7053-26d4-4f9b-bcfa-f85c1e5fcfbe",
   "metadata": {
    "tags": []
   },
   "source": [
    "Some of the popular languages that Data Scientists use are:"
   ]
  },
  {
   "cell_type": "markdown",
   "id": "c7e3bf5e-b9de-43b9-a255-790454371516",
   "metadata": {
    "tags": []
   },
   "source": [
    "1. C language\n",
    "2. C++ language\n",
    "3. Python Language\n",
    "4. R programming"
   ]
  },
  {
   "cell_type": "markdown",
   "id": "e19dd077-60b2-487e-972c-126f8c544783",
   "metadata": {},
   "source": [
    "Some of the commonly used libraries used by Data Scientists include:"
   ]
  },
  {
   "cell_type": "markdown",
   "id": "71fa96b4-a109-44f3-9d7c-d4958a040abf",
   "metadata": {
    "tags": []
   },
   "source": [
    "1. NumPy\n",
    "2. Pandas\n",
    "3. SciPy\n",
    "4. PyTorch"
   ]
  },
  {
   "cell_type": "markdown",
   "id": "e884e241-5369-41a2-a0d3-d98edcae5030",
   "metadata": {},
   "source": [
    "|Data Science Tools |\n",
    "| ------ |\n",
    "| RStudio |\n",
    "|Apache Spark |\n",
    "| TensorFlow |\n"
   ]
  },
  {
   "cell_type": "markdown",
   "id": "38931f22-0bb9-456c-9f81-501168e664f9",
   "metadata": {
    "tags": []
   },
   "source": [
    "### Below are a few examples of evaluating arithmetic expressions in Python\n"
   ]
  },
  {
   "cell_type": "code",
   "execution_count": 26,
   "id": "3c548d2b-d835-4e3f-88b5-80f3a7ffb03c",
   "metadata": {
    "tags": []
   },
   "outputs": [
    {
     "data": {
      "text/plain": [
       "9"
      ]
     },
     "execution_count": 26,
     "metadata": {},
     "output_type": "execute_result"
    }
   ],
   "source": [
    "code = compile(\"5 + 4\", \"<string>\", \"eval\")\n",
    "eval(code)"
   ]
  },
  {
   "cell_type": "code",
   "execution_count": 27,
   "id": "2d26da70-3948-4557-8a57-f198f67bd90a",
   "metadata": {
    "tags": []
   },
   "outputs": [
    {
     "data": {
      "text/plain": [
       "24"
      ]
     },
     "execution_count": 27,
     "metadata": {},
     "output_type": "execute_result"
    }
   ],
   "source": [
    "code1 = compile(\"(5 + 7) * 2\", \"<string>\", \"eval\")\n",
    "eval(code1)"
   ]
  },
  {
   "cell_type": "code",
   "execution_count": 29,
   "id": "17fc5607-3359-4b91-a420-4acb6b3a7edf",
   "metadata": {
    "tags": []
   },
   "outputs": [
    {
     "data": {
      "text/plain": [
       "65449.84694978735"
      ]
     },
     "execution_count": 29,
     "metadata": {},
     "output_type": "execute_result"
    }
   ],
   "source": [
    "import math\n",
    "code2 = compile(\"4 / 3 * math.pi * math.pow(25, 3)\", \"<string>\", \"eval\")\n",
    "eval(code2)"
   ]
  },
  {
   "cell_type": "markdown",
   "id": "c619eefa-3a40-4359-a6d6-d50f490f38f5",
   "metadata": {
    "tags": []
   },
   "source": [
    "This a simple arithmetic expression to mutiply then add integers"
   ]
  },
  {
   "cell_type": "code",
   "execution_count": 30,
   "id": "d53d8680-6bb5-463d-a697-adc8f7a414cb",
   "metadata": {
    "tags": []
   },
   "outputs": [
    {
     "data": {
      "text/plain": [
       "17"
      ]
     },
     "execution_count": 30,
     "metadata": {},
     "output_type": "execute_result"
    }
   ],
   "source": [
    "(3*4)+5"
   ]
  },
  {
   "cell_type": "markdown",
   "id": "f8438b9c-355c-4880-bfd9-81bff7ddb323",
   "metadata": {},
   "source": [
    "This will convert 200 minutes to hours by diving by 60"
   ]
  },
  {
   "cell_type": "code",
   "execution_count": 31,
   "id": "84dcf50f-86d9-48f8-bc7e-3dfc74e186e5",
   "metadata": {
    "tags": []
   },
   "outputs": [
    {
     "name": "stdout",
     "output_type": "stream",
     "text": [
      "3.3333333333333335 hours \n"
     ]
    }
   ],
   "source": [
    "hours = 0\n",
    "time = 200\n",
    "leftover_minutes = time % 1440\n",
    "hours = leftover_minutes / 60\n",
    "print(str(hours) + \" hours \")\n"
   ]
  },
  {
   "cell_type": "markdown",
   "id": "777409d0-d641-4c43-92e1-aee33652c7d7",
   "metadata": {},
   "source": [
    "## Author:\n",
    "Nakul Pratap Singh Rawal"
   ]
  },
  {
   "cell_type": "code",
   "execution_count": null,
   "id": "ac361575-7f07-4d1a-a912-a4c03498f87e",
   "metadata": {},
   "outputs": [],
   "source": []
  }
 ],
 "metadata": {
  "kernelspec": {
   "display_name": "Python",
   "language": "python",
   "name": "conda-env-python-py"
  },
  "language_info": {
   "codemirror_mode": {
    "name": "ipython",
    "version": 3
   },
   "file_extension": ".py",
   "mimetype": "text/x-python",
   "name": "python",
   "nbconvert_exporter": "python",
   "pygments_lexer": "ipython3",
   "version": "3.7.12"
  }
 },
 "nbformat": 4,
 "nbformat_minor": 5
}
